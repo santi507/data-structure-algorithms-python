{
 "cells": [
  {
   "cell_type": "code",
   "execution_count": 2,
   "metadata": {},
   "outputs": [
    {
     "name": "stdout",
     "output_type": "stream",
     "text": [
      "WOOOOF\n",
      "barkbark\n",
      "5/15/2004\n",
      "5/6/2004\n",
      "woofywoofy\n",
      "woofywoofybarkbark\n",
      "Puppy of Mesa and Sequoia\n",
      "5/15/2005\n"
     ]
    }
   ],
   "source": [
    "class Dog:\n",
    "    def __init__(self, name, month, day, year, speakText):\n",
    "        self.name = name\n",
    "        self.month = month\n",
    "        self.day = day\n",
    "        self.year = year\n",
    "        self.speakText = speakText\n",
    "        \n",
    "    def speak(self):\n",
    "        return self.speakText\n",
    "    \n",
    "    def getName(self):\n",
    "        return self.name\n",
    "    \n",
    "    def birthDate(self):\n",
    "        return str(self.month) + \"/\" + str(self.day) + \"/\" + str(self.year)\n",
    "    \n",
    "    def changeBark(self, bark):\n",
    "        self.speakText = bark\n",
    "        \n",
    "    def __add__(self, otherDog):\n",
    "        return Dog(\"Puppy of \" + self.name + \" and \" + otherDog.name, self.month, self.day, self.year + 1, self.speakText + otherDog.speakText)\n",
    "    \n",
    "    \n",
    "def main():\n",
    "    boyDog = Dog(\"Mesa\", 5, 15, 2004, \"WOOOOF\")\n",
    "    girlDog = Dog(\"Sequoia\", 5, 6, 2004, \"barkbark\")\n",
    "    print(boyDog.speak())\n",
    "    print(girlDog.speak())\n",
    "    print(boyDog.birthDate())\n",
    "    print(girlDog.birthDate())\n",
    "    boyDog.changeBark(\"woofywoofy\")\n",
    "    print(boyDog.speak())\n",
    "    puppy = boyDog + girlDog\n",
    "    print(puppy.speak())\n",
    "    print(puppy.getName())\n",
    "    print(puppy.birthDate())\n",
    "        \n",
    "if __name__ ==  \"__main__\":\n",
    "    main()\n",
    "    "
   ]
  },
  {
   "cell_type": "code",
   "execution_count": null,
   "metadata": {
    "collapsed": true
   },
   "outputs": [],
   "source": []
  }
 ],
 "metadata": {
  "kernelspec": {
   "display_name": "Python 3",
   "language": "python",
   "name": "python3"
  },
  "language_info": {
   "codemirror_mode": {
    "name": "ipython",
    "version": 3
   },
   "file_extension": ".py",
   "mimetype": "text/x-python",
   "name": "python",
   "nbconvert_exporter": "python",
   "pygments_lexer": "ipython3",
   "version": "3.6.3"
  }
 },
 "nbformat": 4,
 "nbformat_minor": 2
}
