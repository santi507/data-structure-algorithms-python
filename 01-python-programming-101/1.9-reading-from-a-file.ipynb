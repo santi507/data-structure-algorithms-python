{
 "cells": [
  {
   "cell_type": "code",
   "execution_count": 1,
   "metadata": {},
   "outputs": [
    {
     "name": "stdout",
     "output_type": "stream",
     "text": [
      "Please enter drawing filename: single_line.txt\n",
      "Program Execution Completed.\n"
     ]
    }
   ],
   "source": [
    "import turtle\n",
    "\n",
    "def main():\n",
    "    filename = input(\"Please enter drawing filename: \")\n",
    "    t = turtle.Turtle()\n",
    "    screen = t.getscreen()\n",
    "    \n",
    "    file = open(filename, \"r\")\n",
    "    \n",
    "    for line in file:\n",
    "        text = line.strip()\n",
    "        commandList = text.split(\",\")\n",
    "        \n",
    "        command = commandList[0]\n",
    "        \n",
    "        if command == \"goto\":\n",
    "            x = float(commandList[1])\n",
    "            y = float(commandList[2])\n",
    "            width = float(commandList[3])\n",
    "            color = commandList[4].strip()\n",
    "            t.width(width)\n",
    "            t.pencolor(color)\n",
    "            t.goto(x,y)\n",
    "        elif command == \"circle\":\n",
    "            radius = float(commandList[1])\n",
    "            width = float(commandList[2])\n",
    "            color = commandList[3].strip()\n",
    "            t.width(width)\n",
    "            t.pencolor(color)\n",
    "            t.circle(radius)\n",
    "        elif command == \"beginfill\":\n",
    "            color = commandList[1].strip()\n",
    "            t.fillcolor(color)\n",
    "            t.begin_fill()\n",
    "        elif command == \"endfill\":\n",
    "            t.end_fill()\n",
    "        elif command == \"penup\":\n",
    "            t.penup()\n",
    "        elif command == \"pendown\":\n",
    "            t.pendown()\n",
    "        else:\n",
    "            print(\"Unknowm command found in file:\", command)\n",
    "    \n",
    "    file.close()\n",
    "    \n",
    "    print(\"Program Execution Completed.\")\n",
    "\n",
    "if __name__ == \"__main__\":\n",
    "    main()"
   ]
  },
  {
   "cell_type": "code",
   "execution_count": null,
   "metadata": {
    "collapsed": true
   },
   "outputs": [],
   "source": []
  }
 ],
 "metadata": {
  "kernelspec": {
   "display_name": "Python 3",
   "language": "python",
   "name": "python3"
  },
  "language_info": {
   "codemirror_mode": {
    "name": "ipython",
    "version": 3
   },
   "file_extension": ".py",
   "mimetype": "text/x-python",
   "name": "python",
   "nbconvert_exporter": "python",
   "pygments_lexer": "ipython3",
   "version": "3.6.3"
  }
 },
 "nbformat": 4,
 "nbformat_minor": 2
}
